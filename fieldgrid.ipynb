{
 "cells": [
  {
   "cell_type": "code",
   "execution_count": 140,
   "metadata": {},
   "outputs": [],
   "source": [
    "import geopandas\n",
    "import requests\n",
    "import matplotlib.pyplot as plt\n",
    "import what3words\n",
    "import json\n",
    "import pandas as pd\n",
    "from pprint import pprint\n",
    "from shapely.geometry import Point, Polygon, MultiLineString, box, mapping\n",
    "from shapely.ops import unary_union\n",
    "from scipy.spatial.distance import pdist, squareform"
   ]
  },
  {
   "cell_type": "code",
   "execution_count": 16,
   "metadata": {},
   "outputs": [],
   "source": [
    "fields = geopandas.read_file('StoneHouseGrowPeriodswFields.geojson')\n",
    "fields = fields.cx[:, :42.3]\n",
    "field_name = 'BSF 3'\n",
    "field = fields[fields.FIELD == field_name]\n",
    "ff = set(zip(fields.FARM, fields.FIELD))\n",
    "minx, miny, maxx, maxy = field.total_bounds"
   ]
  },
  {
   "cell_type": "code",
   "execution_count": 17,
   "metadata": {},
   "outputs": [],
   "source": [
    "payload = {\n",
    "    'key': 'EF6CNLGZ', \n",
    "    'bounding-box': f\"{miny},{minx},{maxy},{maxx}\",\n",
    "    'format': 'geojson'\n",
    "}\n",
    "\n",
    "url = \"https://api.what3words.com/v3/grid-section\"\n",
    "r = requests.get(url, params=payload)\n",
    "grid = r.json()"
   ]
  },
  {
   "cell_type": "code",
   "execution_count": 4,
   "metadata": {},
   "outputs": [
    {
     "name": "stdout",
     "output_type": "stream",
     "text": [
      "6935\n"
     ]
    }
   ],
   "source": [
    "mlstring = MultiLineString(grid[\"features\"][0][\"geometry\"][\"coordinates\"])\n",
    "mb = mlstring.buffer(0.0000001)\n",
    "p = Polygon.from_bounds(*field.total_bounds)\n",
    "diff = p.difference(mb)"
   ]
  },
  {
   "cell_type": "code",
   "execution_count": 19,
   "metadata": {},
   "outputs": [],
   "source": [
    "def centroids(polys, field, erosion_factor=0.00003):\n",
    "    \n",
    "    field = field.buffer(-1 * erosion_factor)\n",
    "\n",
    "    def contains_centroid(poly, small_poly):\n",
    "        p = small_poly.centroid\n",
    "        # size of proper grid square\n",
    "        if small_poly.area > 8e-10:\n",
    "            return max(poly.contains(p))\n",
    "        else:\n",
    "            return False\n",
    "\n",
    "    xx = [a.centroid for a in diff if contains_centroid(field, a)]\n",
    "    return xx"
   ]
  },
  {
   "cell_type": "code",
   "execution_count": 65,
   "metadata": {},
   "outputs": [],
   "source": [
    "aa = centroids(diff, field)"
   ]
  },
  {
   "cell_type": "code",
   "execution_count": 88,
   "metadata": {
    "scrolled": true
   },
   "outputs": [],
   "source": [
    "geocoder = what3words.Geocoder(\"EF6CNLGZ\")\n",
    "\n",
    "def collect_info(pt, farm=\"Sirmon Farm\", field=\"BSF 3\"):\n",
    "    res = geocoder.convert_to_3wa(what3words.Coordinates(pt.y, pt.x))\n",
    "    \n",
    "    s = res['square']['southwest']['lat']\n",
    "    w = res['square']['southwest']['lng']\n",
    "    n = res['square']['northeast']['lat']\n",
    "    e = res['square']['northeast']['lng']\n",
    "    \n",
    "    geodata = {\n",
    "        \"id\": res[\"words\"], \n",
    "        \"w\": w, \n",
    "        \"s\": s, \n",
    "        \"e\": e, \n",
    "        \"n\": n, \n",
    "        \"center_x\": pt.x, \n",
    "        \"center_y\": pt.y,\n",
    "    }\n",
    "    \n",
    "    return geodata\n",
    "\n",
    "df = pd.DataFrame([collect_info(i) for i in aa])"
   ]
  },
  {
   "cell_type": "code",
   "execution_count": 90,
   "metadata": {},
   "outputs": [],
   "source": [
    "df.to_pickle(\"bsf3.pkl\")"
   ]
  },
  {
   "cell_type": "code",
   "execution_count": 133,
   "metadata": {},
   "outputs": [],
   "source": [
    "df = pd.read_pickle(\"bsf3.pkl\")\n",
    "size_parcel = 100\n",
    "geovec = list(zip(df.center_x, df.center_y))\n",
    "number_parcels = int(len(geovec)/size_parcel)\n",
    "kmeans = KMeans(n_clusters=number_parcels, random_state=0).fit(geovec)\n",
    "df[\"parcel\"] = kmeans.labels_"
   ]
  },
  {
   "cell_type": "code",
   "execution_count": 145,
   "metadata": {},
   "outputs": [],
   "source": [
    "df[\"poly\"] = df[[\"w\", \"s\", \"e\", \"n\"]].apply(lambda x: box(*x), axis=1)\n",
    "\n",
    "parcel_ids = list(set(df.parcel))\n",
    "\n",
    "features = []\n",
    "for i in parcel_ids:\n",
    "    parcel = df[df.parcel==i]\n",
    "    geo = mapping(unary_union(parcel.poly))\n",
    "    geo[\"properties\"] = {\"what3words\": list(parcel.id)}\n",
    "    features.append(geo)"
   ]
  },
  {
   "cell_type": "code",
   "execution_count": 149,
   "metadata": {},
   "outputs": [],
   "source": [
    "geojson_data = {\n",
    "    \"type\": \"FeatureCollection\",\n",
    "    \"properties\": {\n",
    "        \"farm\": \"Sirmon Farm\",\n",
    "        \"field\": field_name\n",
    "    },\n",
    "    \"features\": features\n",
    "}\n",
    "\n",
    "with open('bsf3.geojson', 'w', encoding='utf-8') as f:\n",
    "    json.dump(geojson_data, f, ensure_ascii=False, indent=4)\n"
   ]
  },
  {
   "cell_type": "code",
   "execution_count": 1,
   "metadata": {
    "scrolled": true
   },
   "outputs": [
    {
     "ename": "NameError",
     "evalue": "name 'aa' is not defined",
     "output_type": "error",
     "traceback": [
      "\u001b[0;31m---------------------------------------------------------------------------\u001b[0m",
      "\u001b[0;31mNameError\u001b[0m                                 Traceback (most recent call last)",
      "\u001b[0;32m<ipython-input-1-ac1da82fe35a>\u001b[0m in \u001b[0;36m<module>\u001b[0;34m\u001b[0m\n\u001b[0;32m----> 1\u001b[0;31m \u001b[0mxs\u001b[0m \u001b[0;34m=\u001b[0m \u001b[0;34m[\u001b[0m\u001b[0mpoint\u001b[0m\u001b[0;34m.\u001b[0m\u001b[0mx\u001b[0m \u001b[0;32mfor\u001b[0m \u001b[0mpoint\u001b[0m \u001b[0;32min\u001b[0m \u001b[0maa\u001b[0m\u001b[0;34m]\u001b[0m\u001b[0;34m\u001b[0m\u001b[0;34m\u001b[0m\u001b[0m\n\u001b[0m\u001b[1;32m      2\u001b[0m \u001b[0mys\u001b[0m \u001b[0;34m=\u001b[0m \u001b[0;34m[\u001b[0m\u001b[0mpoint\u001b[0m\u001b[0;34m.\u001b[0m\u001b[0my\u001b[0m \u001b[0;32mfor\u001b[0m \u001b[0mpoint\u001b[0m \u001b[0;32min\u001b[0m \u001b[0maa\u001b[0m\u001b[0;34m]\u001b[0m\u001b[0;34m\u001b[0m\u001b[0;34m\u001b[0m\u001b[0m\n\u001b[1;32m      3\u001b[0m \u001b[0;34m\u001b[0m\u001b[0m\n\u001b[1;32m      4\u001b[0m \u001b[0mplt\u001b[0m\u001b[0;34m.\u001b[0m\u001b[0mrcParams\u001b[0m\u001b[0;34m[\u001b[0m\u001b[0;34m'figure.figsize'\u001b[0m\u001b[0;34m]\u001b[0m \u001b[0;34m=\u001b[0m \u001b[0;34m[\u001b[0m\u001b[0;36m30\u001b[0m\u001b[0;34m,\u001b[0m \u001b[0;36m15\u001b[0m\u001b[0;34m]\u001b[0m\u001b[0;34m\u001b[0m\u001b[0;34m\u001b[0m\u001b[0m\n\u001b[1;32m      5\u001b[0m \u001b[0mouter_bounds\u001b[0m \u001b[0;34m=\u001b[0m \u001b[0mPolygon\u001b[0m\u001b[0;34m.\u001b[0m\u001b[0mfrom_bounds\u001b[0m\u001b[0;34m(\u001b[0m\u001b[0;34m*\u001b[0m\u001b[0mfield\u001b[0m\u001b[0;34m.\u001b[0m\u001b[0mtotal_bounds\u001b[0m\u001b[0;34m)\u001b[0m\u001b[0;34m\u001b[0m\u001b[0;34m\u001b[0m\u001b[0m\n",
      "\u001b[0;31mNameError\u001b[0m: name 'aa' is not defined"
     ]
    }
   ],
   "source": [
    "xs = [point.x for point in aa]\n",
    "ys = [point.y for point in aa]\n",
    "\n",
    "plt.rcParams['figure.figsize'] = [30, 15]\n",
    "outer_bounds = Polygon.from_bounds(*field.total_bounds)\n",
    "field.plot(color=\"#FAFAFA\")\n",
    "plt.scatter(xs, ys, s=10, c=kmeans.labels_)\n",
    "plt.plot(*outer_bounds.exterior.xy)"
   ]
  }
 ],
 "metadata": {
  "kernelspec": {
   "display_name": "env",
   "language": "python",
   "name": "env"
  },
  "language_info": {
   "codemirror_mode": {
    "name": "ipython",
    "version": 3
   },
   "file_extension": ".py",
   "mimetype": "text/x-python",
   "name": "python",
   "nbconvert_exporter": "python",
   "pygments_lexer": "ipython3",
   "version": "3.7.6"
  }
 },
 "nbformat": 4,
 "nbformat_minor": 4
}
