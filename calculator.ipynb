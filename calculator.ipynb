{
 "cells": [
  {
   "cell_type": "code",
   "execution_count": 4,
   "metadata": {},
   "outputs": [],
   "source": [
    "import numpy as np"
   ]
  },
  {
   "cell_type": "code",
   "execution_count": 5,
   "metadata": {},
   "outputs": [],
   "source": [
    "def calculate_footprint(answers):\n",
    "    # create carbon calculator \n",
    "\n",
    "    # initialize answers \n",
    "    answer_1 = answers[0]\n",
    "    answer_2 = answers[1]\n",
    "    answer_3 = answers[2]\n",
    "    answer_4 = answers[3]\n",
    "    answer_5 = answers[4]\n",
    "    answer_6 = answers[5]\n",
    "    answer_7 = answers[6]\n",
    "    answer_8 = answers[7]\n",
    "    answer_9 = answers[8]\n",
    "    answer_10 = answers[9]\n",
    "    answer_11 = answers[10]\n",
    "\n",
    "    # Electric bill = 7,252.76 kg CO2/year \n",
    "    # $0.1327/kwh/0.62 kg CO2/kwh = $0.214/kg CO2  - all we need to do is divide montly bill by this.\n",
    "    # electric bill = (electric bill / people in household) / ($0.214/kgCo2)     \n",
    "    \n",
    "    try:\n",
    "        answer_1=answer_1.replace('$','')\n",
    "        electric_=(int(answer_2)/int(answer_1))*12/0.214\n",
    "    except:\n",
    "        print('--> error on electric CO2 calculation')\n",
    "\n",
    "    # Flights = 602.448 kg CO2/year (if yes)\n",
    "    # 286.88 kg CO2/flight \n",
    "    try:\n",
    "        flight_= float(answer_3)*286.88 \n",
    "    except:\n",
    "        print('--> error on flight CO2 calculation')\n",
    "        flight_=602.448\n",
    "\n",
    "    # Transportation = 0.\n",
    "    # 6,525.0 kg CO2/year (if drive only), 4,470.0 kg CO2/year (if mixed), 2,415.0 kg/year (if public)\n",
    "    # 0.435 kg CO2/mile driving, 0.298 kg CO2/mile 50%/50% public transport and driving, and 0.161 kg CO2/mile (if public)\n",
    "    # assume 220 working days/year (w/ vacation)\n",
    "    try:\n",
    "        if answer_4 == 'yes' and answer_6 == 'no':\n",
    "            transportation_=float(answer_5)*1.61* 0.435*2*220\n",
    "\n",
    "        elif answer_4 == 'yes' and answer_6 == 'yes':\n",
    "            transportation_=float(answer_5)*1.61*0.298*2*220\n",
    "\n",
    "        elif answer_4 == 'no' and answer_6 == 'yes':\n",
    "            transportation_=float(answer_5)*1.61*0.161*2*220\n",
    "\n",
    "        # Uber trips \n",
    "        # 45.27 kg CO2/year (average) \n",
    "        # 6 miles * 0.435 kg Co2/ mile = 2.61 kg CO2/trip \n",
    "        transportation_=transportation_+float(answer_8)*2.61*12\n",
    "\n",
    "    except:\n",
    "        print('--> error on transportation CO2 caclulation')\n",
    "        transportation=4515.27\n",
    "\n",
    "    # Vegetarian - assume footprint from food \n",
    "    try:\n",
    "        if answer_9 == 'yes':\n",
    "            food_=1542.21406\n",
    "        # meat lover \n",
    "        elif answer_10 == 'yes':\n",
    "            food_=2993.70964\n",
    "        else:\n",
    "            food_=2267.96185\n",
    "    except:\n",
    "        print('--> error on food CO2 calculation')\n",
    "        food_=2267.96185\n",
    "\n",
    "    # do you use amazon? --> retail, etc. \n",
    "    answer_11=answer_11.replace('$','').replace(' ','')\n",
    "    retail_=0.1289*float(answer_11)\n",
    "\n",
    "    footprint=electric_+flight_+transportation_+food_+retail_\n",
    "    footprintbytype=[electric_, flight_, transportation_, food_, retail_]\n",
    "\n",
    "    # compared to averages (kg Co2/year)\n",
    "    footprint_avg = 14660.85\n",
    "    footprintbytype_avg = [7252.76, 602.45, 4515.27, 2267.96, 22.41]\n",
    "\n",
    "    footprint_delta=footprint-footprint_avg\n",
    "    footprintbytype_delta=list(np.array(footprintbytype)-np.array(footprintbytype_avg))\n",
    "\n",
    "    labels_footprint=['electric (kg Co2/year)', 'flight (kg Co2/year)', 'transportation (kg Co2/year)', 'food (kg Co2/year)', 'retail (kg Co2/year)']\n",
    "    labels_footprintbytype = 'total kg Co2/year'\n",
    "\n",
    "    return footprint, footprintbytype, footprint_delta, footprintbytype_delta, labels_footprint, labels_footprintbytype\n"
   ]
  },
  {
   "cell_type": "code",
   "execution_count": 6,
   "metadata": {},
   "outputs": [
    {
     "name": "stdout",
     "output_type": "stream",
     "text": [
      "(6107.076198878504, [1401.8691588785048, 1434.4, 270.6524, 2993.70964, 6.444999999999999], -8553.773801121497, [-5850.890841121495, 831.95, -4244.6176000000005, 725.74964, -15.965], ['electric (kg Co2/year)', 'flight (kg Co2/year)', 'transportation (kg Co2/year)', 'food (kg Co2/year)', 'retail (kg Co2/year)'], 'total kg Co2/year')\n"
     ]
    }
   ],
   "source": [
    "answers=['2', '50', '5', 'no', '1', 'yes', 'yes', '5', 'no', 'yes', '50']\n",
    "print(calculate_footprint(answers))"
   ]
  },
  {
   "cell_type": "code",
   "execution_count": null,
   "metadata": {},
   "outputs": [
    {
     "name": "stdout",
     "output_type": "stream",
     "text": [
      "How many people are in your household? (e.g. 2) \n",
      "2\n",
      "What is your electric bill (in dollars) monthly?  (e.g. 50) \n",
      "50\n"
     ]
    }
   ],
   "source": [
    "# example = 2 \n",
    "answer_1 = input('How many people are in your household? (e.g. 2) \\n')\n",
    "# example = 50 \n",
    "answer_2 = input('What is your electric bill (in dollars) monthly?  (e.g. 50) \\n')\n",
    "# example = 5 \n",
    "answer_3 = input('How many flights do you take per year? (e.g. 10) \\n')\n",
    "# example = no \n",
    "answer_4 = input('Do you own a car? (e.g. n | y) \\n')\n",
    "# example = 1 \n",
    "answer_5 = input('What is your average distance to commute to/from work in miles - for example 21? (e.g. 10) \\n')\n",
    "# example = yes\n",
    "answer_6= input('Do you use public transportation? (e.g. y)\\n')\n",
    "# example = yes \n",
    "answer_7 = input('Do you use uber or another ride sharing platform like Lyft? (e.g. y) \\n')\n",
    "if answer_7 == 'yes':\n",
    "    # example = 5\n",
    "    answer_8 = input(\"How many ride-sharing trips do you complete per month? (e.g. 10) \\n\")\n",
    "else:\n",
    "    answer_8 = '0'\n",
    "\n",
    "# example = yes\n",
    "answer_9 = input('Are you a vegetarian? (e.g. n) \\n')\n",
    "# example = no\n",
    "answer_10= input('Do you eat meat more than 3 times each week? (e.g. y) \\n')\n",
    "# example = 50\n",
    "answer_11 = input('How much money do you spend on Amazon per month in US dollars - for example, fifty dollars? (e.g. 150) \\n')"
   ]
  }
 ],
 "metadata": {
  "kernelspec": {
   "display_name": "env",
   "language": "python",
   "name": "env"
  },
  "language_info": {
   "codemirror_mode": {
    "name": "ipython",
    "version": 3
   },
   "file_extension": ".py",
   "mimetype": "text/x-python",
   "name": "python",
   "nbconvert_exporter": "python",
   "pygments_lexer": "ipython3",
   "version": "3.7.6"
  }
 },
 "nbformat": 4,
 "nbformat_minor": 4
}
